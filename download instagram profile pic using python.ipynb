{
 "cells": [
  {
   "cell_type": "code",
   "execution_count": 12,
   "metadata": {},
   "outputs": [
    {
     "name": "stdout",
     "output_type": "stream",
     "text": [
      "enter the instagram ID:momzz_prinzz\n"
     ]
    }
   ],
   "source": [
    "#programming_fever\n",
    "import requests as req\n",
    "from bs4 import BeautifulSoup as bs\n",
    "import cv2\n",
    "\n",
    "username = input(\"enter the instagram ID:\")\n",
    "URL =\"https://www.instagram.com/{}/\"\n",
    "\n",
    "r = req.get(URL.format(username))\n",
    "s = bs(r.text,\"html.parser\")\n",
    "u = s.find(\"meta\",property='og:image')\n",
    "url = u.attrs[\"content\"]\n",
    "           \n",
    "    \n",
    "with open(username + '.jpg',\"wb\")as pic:\n",
    "           binary=req.get(url).content\n",
    "           pic.write(binary)"
   ]
  },
  {
   "cell_type": "code",
   "execution_count": null,
   "metadata": {},
   "outputs": [],
   "source": [
    "\n"
   ]
  }
 ],
 "metadata": {
  "kernelspec": {
   "display_name": "Python 3",
   "language": "python",
   "name": "python3"
  }
 },
 "nbformat": 4,
 "nbformat_minor": 2
}
